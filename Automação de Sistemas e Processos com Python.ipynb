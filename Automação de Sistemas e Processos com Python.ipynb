{
 "cells": [
  {
   "cell_type": "markdown",
   "id": "76e15c35",
   "metadata": {},
   "source": [
    "Primeiro projetinho de automação de sistemas e processos em Python, testando o pyautogui, uma biblioteca de automação de comandos do mouse e do teclado.\n",
    "O projeto consiste em um algoritmo que curte algumas fotos da cantora Taylor Swift no instagram. Tentei usar o máximo de comandos da biblioteca possíveis."
   ]
  },
  {
   "cell_type": "code",
   "execution_count": 39,
   "id": "e5dc459f",
   "metadata": {},
   "outputs": [],
   "source": [
    "# Intalação das bibliotecas - só é necessário instalar uma vez\n",
    "#!pip install pyautogui\n",
    "#!pip install pyperclip"
   ]
  },
  {
   "cell_type": "code",
   "execution_count": 40,
   "id": "0894ebab",
   "metadata": {},
   "outputs": [],
   "source": [
    "# Importando as bibliotecas\n",
    "import pyautogui\n",
    "import pyperclip\n",
    "import time"
   ]
  },
  {
   "cell_type": "markdown",
   "id": "0c4bd62c",
   "metadata": {},
   "source": [
    "# Conhecendo os comandos\n",
    "\n",
    "pyautogui.position() -> Localiza coordenadas do cursor do mouse\n",
    "\n",
    "pyautogui.moveTo(10,10,duration=4) -> Move o cursor do mouse. O terceiro parâmetro é opicional\n",
    "\n",
    "pyautogui.click(80,80) -> Clicando com a esquerda\n",
    "\n",
    "pyautogui.doubleClick(80,80) -> Clique duplo\n",
    "\n",
    "pyautogui.rightClick(80,80) -> Clicando com a direita\n",
    "\n",
    "pyautogui.position() -> Descobre a posição\n",
    "\n",
    "pyautogui.click(50,80);pyautogui.typewrite(“Bhishan”) -> Pressionando teclas\n",
    "\n",
    "pyautogui.click(50,80);pyautogui.typewrite(“Bhishan”, interval=0.2)\n",
    "\n",
    "pyautogui.hotkey(‘Ctrl’,’Shift’,’q’) -> Hot key - pode ser udado nos casos em que é necessário pressionar duas ou mais teclas ao mesmo tempo\n"
   ]
  },
  {
   "cell_type": "code",
   "execution_count": null,
   "id": "6d696a31",
   "metadata": {},
   "outputs": [],
   "source": []
  },
  {
   "cell_type": "code",
   "execution_count": 71,
   "id": "4d2b8341",
   "metadata": {},
   "outputs": [
    {
     "ename": "KeyboardInterrupt",
     "evalue": "",
     "output_type": "error",
     "traceback": [
      "\u001b[1;31m---------------------------------------------------------------------------\u001b[0m",
      "\u001b[1;31mKeyboardInterrupt\u001b[0m                         Traceback (most recent call last)",
      "\u001b[1;32m~\\AppData\\Local\\Temp/ipykernel_6352/2184773611.py\u001b[0m in \u001b[0;36m<module>\u001b[1;34m\u001b[0m\n\u001b[0;32m     17\u001b[0m \u001b[1;32mwhile\u001b[0m \u001b[0mfotos\u001b[0m \u001b[1;33m<\u001b[0m \u001b[1;36m510\u001b[0m\u001b[1;33m:\u001b[0m\u001b[1;33m\u001b[0m\u001b[1;33m\u001b[0m\u001b[0m\n\u001b[0;32m     18\u001b[0m     \u001b[0mpyautogui\u001b[0m\u001b[1;33m.\u001b[0m\u001b[0mclick\u001b[0m\u001b[1;33m(\u001b[0m\u001b[0mx\u001b[0m\u001b[1;33m=\u001b[0m\u001b[1;36m384\u001b[0m\u001b[1;33m,\u001b[0m \u001b[0my\u001b[0m\u001b[1;33m=\u001b[0m\u001b[1;36m421\u001b[0m\u001b[1;33m,\u001b[0m \u001b[0mclicks\u001b[0m\u001b[1;33m=\u001b[0m\u001b[1;36m2\u001b[0m\u001b[1;33m)\u001b[0m\u001b[1;33m\u001b[0m\u001b[1;33m\u001b[0m\u001b[0m\n\u001b[1;32m---> 19\u001b[1;33m     \u001b[0mtime\u001b[0m\u001b[1;33m.\u001b[0m\u001b[0msleep\u001b[0m\u001b[1;33m(\u001b[0m\u001b[1;36m1\u001b[0m\u001b[1;33m)\u001b[0m\u001b[1;33m\u001b[0m\u001b[1;33m\u001b[0m\u001b[0m\n\u001b[0m\u001b[0;32m     20\u001b[0m     \u001b[0mpyautogui\u001b[0m\u001b[1;33m.\u001b[0m\u001b[0mclick\u001b[0m\u001b[1;33m(\u001b[0m\u001b[0mx\u001b[0m\u001b[1;33m=\u001b[0m\u001b[1;36m1268\u001b[0m\u001b[1;33m,\u001b[0m \u001b[0my\u001b[0m\u001b[1;33m=\u001b[0m\u001b[1;36m412\u001b[0m\u001b[1;33m)\u001b[0m\u001b[1;33m\u001b[0m\u001b[1;33m\u001b[0m\u001b[0m\n\u001b[0;32m     21\u001b[0m     \u001b[0mfotos\u001b[0m \u001b[1;33m=\u001b[0m \u001b[0mfotos\u001b[0m \u001b[1;33m+\u001b[0m \u001b[1;36m1\u001b[0m\u001b[1;33m\u001b[0m\u001b[1;33m\u001b[0m\u001b[0m\n",
      "\u001b[1;31mKeyboardInterrupt\u001b[0m: "
     ]
    }
   ],
   "source": [
    "pyautogui.PAUSE = 1 # pausa de 1 segundo entre comandos \n",
    "# Criar uma nova aba\n",
    "pyautogui.hotkey('ctrl', 't')\n",
    "# Copiando o link no espaço de busca\n",
    "pyperclip.copy('https://www.instagram.com/taylorswift/')\n",
    "pyautogui.hotkey('ctrl', 'v')\n",
    "pyautogui.press('enter') # Apertar um botão do teclado\n",
    "time.sleep(5)\n",
    "contador = 0\n",
    "while contador < 7:\n",
    "    pyautogui.press('pgdn')\n",
    "    contador = contador + 1\n",
    "pyautogui.click(x=335, y=601)\n",
    "\n",
    "fotos = 0\n",
    "pyautogui.PAUSE = 1\n",
    "while fotos < 510:\n",
    "    pyautogui.click(x=384, y=421, clicks=2)\n",
    "    time.sleep(1)\n",
    "    pyautogui.click(x=1268, y=412)\n",
    "    fotos = fotos + 1\n",
    "\n",
    "\n",
    "\n",
    "\n"
   ]
  },
  {
   "cell_type": "code",
   "execution_count": 63,
   "id": "c24f6558",
   "metadata": {},
   "outputs": [
    {
     "data": {
      "text/plain": [
       "Point(x=350, y=162)"
      ]
     },
     "execution_count": 63,
     "metadata": {},
     "output_type": "execute_result"
    }
   ],
   "source": [
    "#Para achar a posição\n",
    "time.sleep(5)\n",
    "pyautogui.position()\n"
   ]
  },
  {
   "cell_type": "code",
   "execution_count": null,
   "id": "ab1427ad",
   "metadata": {},
   "outputs": [],
   "source": [
    "\n"
   ]
  }
 ],
 "metadata": {
  "kernelspec": {
   "display_name": "Python 3 (ipykernel)",
   "language": "python",
   "name": "python3"
  },
  "language_info": {
   "codemirror_mode": {
    "name": "ipython",
    "version": 3
   },
   "file_extension": ".py",
   "mimetype": "text/x-python",
   "name": "python",
   "nbconvert_exporter": "python",
   "pygments_lexer": "ipython3",
   "version": "3.9.7"
  }
 },
 "nbformat": 4,
 "nbformat_minor": 5
}
